{
 "metadata": {
  "name": "",
  "signature": "sha256:d8da065d6a6939a74fbb51ab51cfb6cd9c395c6d4ef18b0c51861f80b102ca39"
 },
 "nbformat": 3,
 "nbformat_minor": 0,
 "worksheets": [
  {
   "cells": [
    {
     "cell_type": "markdown",
     "metadata": {},
     "source": [
      "# Problem 1.2-2\n",
      "Suppose we are comparing implementations of insertion sort and merge sort on the same machine. For inputs of size $n$, insertion sort runs in $8n^2$ steps, while merge sort runs in $64.n.lg(n)$ steps. For which values of $n$ does insertion sort beat merge sort?\n",
      "\n",
      "## answer:\n",
      "$ 8.n^2 < 64.n.log(n) $\n",
      "\n",
      "$ n < 8.log(n) $\n",
      "\n",
      "Insertion sort = $ n $\n",
      "\n",
      "Merge sort = $ 8.log(n) $\n",
      "\n",
      "From the numeration and graph, below the value is < 44. In this range insertion sort beat merge sort. Whereas value larger than 44, the merge sort beats insertion sort"
     ]
    },
    {
     "cell_type": "code",
     "collapsed": false,
     "input": [
      "# numeration way\n",
      "def sol(n):\n",
      "    return (n < (8*math.log(n,2)))\n",
      "\n",
      "n = 2 # we start at n = 2, as with n = 1 the log(1) equals to zero\n",
      "while sol(n):\n",
      "    n += 1\n",
      "    \n",
      "print (n)    "
     ],
     "language": "python",
     "metadata": {},
     "outputs": [
      {
       "output_type": "stream",
       "stream": "stdout",
       "text": [
        "44\n"
       ]
      }
     ],
     "prompt_number": 29
    },
    {
     "cell_type": "code",
     "collapsed": false,
     "input": [
      "insert_sort = [n for n in xrange(1,51)]\n",
      "merge_sort = [(8*math.log(n,2)) for n in xrange(1,51)]\n",
      "import matplotlib.pyplot as plt\n",
      "plt.plot(xrange(1,51),insert_sort, label=\"insert_sort\")\n",
      "plt.plot(xrange(1,51),merge_sort, label=\"merge_sort\")\n",
      "plt.legend(bbox_to_anchor=(0., 1.02, 1., .102), loc=3,\n",
      "           ncol=2, mode=\"expand\", borderaxespad=0.)"
     ],
     "language": "python",
     "metadata": {},
     "outputs": [
      {
       "metadata": {},
       "output_type": "pyout",
       "prompt_number": 25,
       "text": [
        "<matplotlib.legend.Legend at 0x105c2e290>"
       ]
      },
      {
       "metadata": {},
       "output_type": "display_data",
       "png": "[encoded data removed]",
       "text": [
        "<matplotlib.figure.Figure at 0x105b306d0>"
       ]
      }
     ],
     "prompt_number": 25
    },
    {
     "cell_type": "markdown",
     "metadata": {},
     "source": [
      "# Problem 1.2-3\n",
      "\n",
      "What is the smallest value of $n$ such that an algorithm whose running time is $100n^2$ runs faster than an algorithm whose running time is $2^n$ on the same machine?\n",
      "\n"
     ]
    },
    {
     "cell_type": "code",
     "collapsed": false,
     "input": [
      "def sol(n):\n",
      "    return (100*n**2 < 2**n)\n",
      "n = 1\n",
      "\n",
      "while not sol(n):\n",
      "    n += 1\n",
      "    \n",
      "print (n)    "
     ],
     "language": "python",
     "metadata": {},
     "outputs": [
      {
       "output_type": "stream",
       "stream": "stdout",
       "text": [
        "15\n"
       ]
      }
     ],
     "prompt_number": 28
    },
    {
     "cell_type": "code",
     "collapsed": false,
     "input": [
      "poly_n = [100*n**2 for n in xrange(1,21)]\n",
      "exp_n = [2**n for n in xrange(1,21) ]\n",
      "plt.plot(xrange(1,21),poly_n, label=\"100n^2\")\n",
      "plt.plot(xrange(1,21),exp_n, label=\"2^n\")\n",
      "plt.legend(bbox_to_anchor=(0., 1.02, 1., .102), loc=3,\n",
      "           ncol=2, mode=\"expand\", borderaxespad=0.)"
     ],
     "language": "python",
     "metadata": {},
     "outputs": [
      {
       "metadata": {},
       "output_type": "pyout",
       "prompt_number": 32,
       "text": [
        "<matplotlib.legend.Legend at 0x105d47210>"
       ]
      },
      {
       "metadata": {},
       "output_type": "display_data",
       "png": "[encoded data removed]",
       "text": [
        "<matplotlib.figure.Figure at 0x105c504d0>"
       ]
      }
     ],
     "prompt_number": 32
    },
    {
     "cell_type": "markdown",
     "metadata": {},
     "source": [
      "# 1-1 Comparison of running times\n",
      "\n",
      "Answer :\n",
      "    \n",
      "    $ n! > 2^n > n^3 > n^2 > n * log(n) > n > n^(1/2) > log(n) > log log(n) > constant $"
     ]
    },
    {
     "cell_type": "code",
     "collapsed": false,
     "input": [],
     "language": "python",
     "metadata": {},
     "outputs": []
    }
   ],
   "metadata": {}
  }
 ]
}