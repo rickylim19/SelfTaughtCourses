{
 "metadata": {
  "name": "",
  "signature": "sha256:23021f1d686d8b3958c7609e5b0e978e1817223804eb5d72a2b92a5ed52fde0d"
 },
 "nbformat": 3,
 "nbformat_minor": 0,
 "worksheets": [
  {
   "cells": [
    {
     "cell_type": "markdown",
     "metadata": {},
     "source": [
      "# Karatsuba Multiplication $x.y$\n",
      "\n",
      "$ x = 10^{\\frac{n}{2}}.a + b $ \n",
      "\n",
      "$ y = 10^{\\frac{n}{2}}.c + d $\n",
      "\n",
      "where $ a, b, c, d $ are $\\frac{n}{2}$ - digit numbers\n",
      "\n",
      "$ x.y = (10^{\\frac{n}{2}}.a + b).(10^{\\frac{n}{2}}.c + d)$\n"
     ]
    },
    {
     "cell_type": "markdown",
     "metadata": {},
     "source": [
      "## Karatsuba algorithm\n",
      "\n",
      "Recall : $ x.y  = 10^{n}.ac + 10^{\\frac{n}{2}}(ad + bc) + bd $ \n",
      "\n",
      "Step1: recursively compute $ ac $\n",
      "\n",
      "Step2: recursively compute $ bd $\n",
      "\n",
      "Step3: recursively compute $ (a+b).(c+d) $\n",
      "\n",
      "Step4: Step3 - Step1 - Step2 = $ ad + bc $"
     ]
    },
    {
     "cell_type": "code",
     "collapsed": false,
     "input": [
      "#!/usr/bin/env python\n",
      "# -*- coding: utf-8 -*-\n",
      "\n",
      "import sys\n",
      "\n",
      "def num_digits(z):\n",
      "    return len(str(z))\n",
      "\n",
      "def bidigits(z, n):\n",
      "    base_shift = 10**(n/2)\n",
      "    first_digit = z / (base_shift)\n",
      "    second_digit= z - (first_digit * base_shift)\n",
      "    return (first_digit, second_digit)\n",
      "\n",
      "def recur_multiply(x,y):\n",
      "    if x == 0: return 0\n",
      "    if x == 1: return y\n",
      "    return y + recur_multiply(x-1, y)\n",
      "\n",
      "def karatsuba(x, y):\n",
      "\n",
      "    x,y = int(x), int(y)\n",
      "    n = (num_digits(x) == num_digits(y)) and num_digits(x)\n",
      "\n",
      "    if n:\n",
      "        a, b = bidigits(x, n)\n",
      "        c, d = bidigits(y, n)\n",
      "\n",
      "        step_1 = recur_multiply(a, c)\n",
      "        step_2 = recur_multiply(b, d)\n",
      "        step_3 = (a + b) * (c + d)\n",
      "        step_4  = step_3 - step_1 - step_2\n",
      "        if n % 2 == 0:\n",
      "            result = 10**(n)*step_1 + 10**(n/2)*(step_4) + step_2\n",
      "        else:\n",
      "            result = 10**(n-1)*step_1 + 10**(n/2)*(step_4) + step_2\n",
      "\n",
      "        return result\n",
      "    \n",
      "def test():\n",
      "    assert karatsuba(1234, 5678) == 7006652\n",
      "    assert karatsuba(12345, 56789) == 701060205\n",
      "\n",
      "test()  "
     ],
     "language": "python",
     "metadata": {},
     "outputs": [],
     "prompt_number": 12
    },
    {
     "cell_type": "code",
     "collapsed": false,
     "input": [],
     "language": "python",
     "metadata": {},
     "outputs": []
    }
   ],
   "metadata": {}
  }
 ]
}